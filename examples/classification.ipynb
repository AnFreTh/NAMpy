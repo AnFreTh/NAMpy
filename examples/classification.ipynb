{
 "cells": [
  {
   "cell_type": "code",
   "execution_count": null,
   "metadata": {},
   "outputs": [],
   "source": [
    "import pandas as pd\n",
    "import numpy as np\n",
    "import tensorflow as tf"
   ]
  },
  {
   "cell_type": "code",
   "execution_count": null,
   "metadata": {},
   "outputs": [],
   "source": [
    "np.random.seed(101)\n",
    "\n",
    "# Number of samples\n",
    "n_samples = 1000\n",
    "\n",
    "# Generating data\n",
    "x1 = np.random.uniform(0, 1, n_samples)  # Attribute 1\n",
    "x2 = np.random.uniform(0, 1, n_samples)  # Attribute 2\n",
    "x3 = np.random.uniform(0, 1, n_samples)  # Attribute 3\n",
    "\n",
    "# Defining some nice effects for each class attribute\n",
    "effect_x1 = np.sin(2 * np.pi * x1)  # Sinusoidal effect for attribute 1\n",
    "effect_x2 = x2 ** 2  # Quadratic effect for attribute 2\n",
    "effect_x3 = np.log(x3 + 1)  # Logarithmic effect for attribute 3\n",
    "\n",
    "# Combining the effects with some weights and adding noise\n",
    "y_effect = 1.5 * effect_x1 + 2 * effect_x2 - 1.2 * effect_x3\n",
    "y_noise = np.random.normal(0, 0.1, n_samples)  # Adding some noise\n",
    "\n",
    "# Redefining effects with slightly altered weights for multi-class distinction\n",
    "y_effect_multi = 1.2 * effect_x1 + 2.5 * effect_x2 - 1.5 * effect_x3 + y_noise\n",
    "\n",
    "# Creating three classes based on tertiles of the effect\n",
    "percentiles = np.percentile(y_effect_multi, [33, 66])\n",
    "y_class_multi = np.digitize(y_effect_multi, percentiles)\n",
    "\n",
    "# Updating the DataFrame\n",
    "data = pd.DataFrame({\n",
    "    'Attribute1': x1,\n",
    "    'Attribute2': x2,\n",
    "    'Attribute3': x3,\n",
    "    'Class': y_class_multi\n",
    "})\n",
    "\n",
    "\n",
    "data.head()\n"
   ]
  },
  {
   "cell_type": "code",
   "execution_count": null,
   "metadata": {},
   "outputs": [],
   "source": [
    "from nampy.models import NAM"
   ]
  },
  {
   "cell_type": "code",
   "execution_count": null,
   "metadata": {},
   "outputs": [],
   "source": [
    "nam = NAM(\n",
    "    \"Class ~ -1 + MLP(Attribute1; hidden_dims=[64, 32]) + MLP(Attribute2; hidden_dims=[64, 32]) + MLP(Attribute3)\",   \n",
    "    data=data, \n",
    "    feature_dropout=0.0001,\n",
    "    classification=True,\n",
    "    output_activation=\"sigmoid\"\n",
    "    )"
   ]
  },
  {
   "cell_type": "code",
   "execution_count": null,
   "metadata": {},
   "outputs": [],
   "source": [
    "nam.compile(\n",
    "    optimizer=tf.keras.optimizers.Adam(learning_rate=0.001),\n",
    "    loss={\"output\":\"categorical_crossentropy\"},\n",
    "    metrics={\"output\":\"accuracy\"},\n",
    ")"
   ]
  },
  {
   "cell_type": "code",
   "execution_count": null,
   "metadata": {},
   "outputs": [],
   "source": [
    "# Train the model\n",
    "nam.fit(nam.training_dataset, epochs=100, validation_data=nam.validation_dataset)\n",
    "\n",
    "# Evaluate the model\n",
    "loss = nam.evaluate(nam.validation_dataset)\n",
    "print(\"Test Loss:\", loss)"
   ]
  },
  {
   "cell_type": "code",
   "execution_count": null,
   "metadata": {},
   "outputs": [],
   "source": [
    "nam.plot(interaction=False, interactive=False)"
   ]
  }
 ],
 "metadata": {
  "kernelspec": {
   "display_name": "xDl_venv",
   "language": "python",
   "name": "xdl_venv"
  },
  "language_info": {
   "codemirror_mode": {
    "name": "ipython",
    "version": 3
   },
   "file_extension": ".py",
   "mimetype": "text/x-python",
   "name": "python",
   "nbconvert_exporter": "python",
   "pygments_lexer": "ipython3",
   "version": "3.10.13"
  }
 },
 "nbformat": 4,
 "nbformat_minor": 2
}
