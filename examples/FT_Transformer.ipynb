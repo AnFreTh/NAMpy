{
 "cells": [
  {
   "cell_type": "code",
   "execution_count": 1,
   "metadata": {},
   "outputs": [],
   "source": [
    "import pandas as pd\n",
    "import pandas as pd\n",
    "from tensorflow.keras.optimizers import Adam\n",
    "\n",
    "import tensorflow as tf"
   ]
  },
  {
   "cell_type": "code",
   "execution_count": 2,
   "metadata": {},
   "outputs": [],
   "source": [
    "dataset = tf.keras.utils.get_file(\"train.csv\", \"https://storage.googleapis.com/tf-datasets/titanic/train.csv\")\n",
    "\n",
    "# Read the dataset into a Pandas DataFrame\n",
    "TITANIC = pd.read_csv(dataset)"
   ]
  },
  {
   "cell_type": "code",
   "execution_count": 3,
   "metadata": {},
   "outputs": [],
   "source": [
    "import sys\n",
    "sys.path.append('..')\n",
    "from xDL.models.FTTransformer import FTTransformer"
   ]
  },
  {
   "cell_type": "code",
   "execution_count": 4,
   "metadata": {},
   "outputs": [
    {
     "name": "stdout",
     "output_type": "stream",
     "text": [
      "--- Preprocessing ---\n"
     ]
    },
    {
     "name": "stderr",
     "output_type": "stream",
     "text": [
      "10it [00:04,  2.31it/s]\n"
     ]
    }
   ],
   "source": [
    "model = FTTransformer(\n",
    "    data=TITANIC, \n",
    "    y=\"survived\",\n",
    "    output_activation=\"linear\",\n",
    "    binning_task=\"classification\",\n",
    "    num_classes=1,\n",
    "    n_bins_num=25\n",
    "    )"
   ]
  },
  {
   "cell_type": "code",
   "execution_count": 5,
   "metadata": {},
   "outputs": [
    {
     "data": {
      "text/plain": [
       "<_PrefetchDataset element_spec=({'sex': TensorSpec(shape=(None, 1), dtype=tf.int64, name=None), 'age': TensorSpec(shape=(None, 25), dtype=tf.float32, name=None), 'n_siblings_spouses': TensorSpec(shape=(None, 1), dtype=tf.int64, name=None), 'parch': TensorSpec(shape=(None, 1), dtype=tf.int64, name=None), 'fare': TensorSpec(shape=(None, 25), dtype=tf.float32, name=None), 'class': TensorSpec(shape=(None, 1), dtype=tf.int64, name=None), 'deck': TensorSpec(shape=(None, 1), dtype=tf.int64, name=None), 'embark_town': TensorSpec(shape=(None, 1), dtype=tf.int64, name=None), 'alone': TensorSpec(shape=(None, 1), dtype=tf.int64, name=None)}, TensorSpec(shape=(None,), dtype=tf.int64, name=None))>"
      ]
     },
     "execution_count": 5,
     "metadata": {},
     "output_type": "execute_result"
    }
   ],
   "source": [
    "model.training_dataset"
   ]
  },
  {
   "cell_type": "code",
   "execution_count": 6,
   "metadata": {},
   "outputs": [
    {
     "name": "stdout",
     "output_type": "stream",
     "text": [
      "Epoch 1/100\n"
     ]
    },
    {
     "name": "stdout",
     "output_type": "stream",
     "text": [
      "1/1 [==============================] - 20s 20s/step - loss: 5.6086 - output_loss: 5.6086 - output_binary_crossentropy: 5.6086 - val_loss: 1.3749 - val_output_loss: 1.3749 - val_output_binary_crossentropy: 1.3749\n",
      "Epoch 2/100\n",
      "1/1 [==============================] - 0s 317ms/step - loss: 1.4058 - output_loss: 1.4058 - output_binary_crossentropy: 1.4058 - val_loss: 1.1209 - val_output_loss: 1.1209 - val_output_binary_crossentropy: 1.1209\n",
      "Epoch 3/100\n",
      "1/1 [==============================] - 0s 309ms/step - loss: 1.1449 - output_loss: 1.1449 - output_binary_crossentropy: 1.1449 - val_loss: 1.0917 - val_output_loss: 1.0917 - val_output_binary_crossentropy: 1.0917\n",
      "Epoch 4/100\n",
      "1/1 [==============================] - 0s 328ms/step - loss: 0.9887 - output_loss: 0.9887 - output_binary_crossentropy: 0.9887 - val_loss: 0.9687 - val_output_loss: 0.9687 - val_output_binary_crossentropy: 0.9687\n",
      "Epoch 5/100\n",
      "1/1 [==============================] - 0s 415ms/step - loss: 0.8882 - output_loss: 0.8882 - output_binary_crossentropy: 0.8882 - val_loss: 0.7963 - val_output_loss: 0.7963 - val_output_binary_crossentropy: 0.7963\n",
      "Epoch 6/100\n",
      "1/1 [==============================] - 0s 396ms/step - loss: 0.8346 - output_loss: 0.8346 - output_binary_crossentropy: 0.8346 - val_loss: 0.7766 - val_output_loss: 0.7766 - val_output_binary_crossentropy: 0.7766\n",
      "Epoch 7/100\n",
      "1/1 [==============================] - 0s 419ms/step - loss: 0.7404 - output_loss: 0.7404 - output_binary_crossentropy: 0.7404 - val_loss: 0.6949 - val_output_loss: 0.6949 - val_output_binary_crossentropy: 0.6949\n",
      "Epoch 8/100\n",
      "1/1 [==============================] - 0s 415ms/step - loss: 0.7005 - output_loss: 0.7005 - output_binary_crossentropy: 0.7005 - val_loss: 0.6938 - val_output_loss: 0.6938 - val_output_binary_crossentropy: 0.6938\n",
      "Epoch 9/100\n",
      "1/1 [==============================] - 0s 455ms/step - loss: 0.6957 - output_loss: 0.6957 - output_binary_crossentropy: 0.6957 - val_loss: 0.6290 - val_output_loss: 0.6290 - val_output_binary_crossentropy: 0.6290\n",
      "Epoch 10/100\n",
      "1/1 [==============================] - 0s 394ms/step - loss: 0.6686 - output_loss: 0.6686 - output_binary_crossentropy: 0.6686 - val_loss: 0.6735 - val_output_loss: 0.6735 - val_output_binary_crossentropy: 0.6735\n",
      "Epoch 11/100\n",
      "1/1 [==============================] - 0s 482ms/step - loss: 0.6765 - output_loss: 0.6765 - output_binary_crossentropy: 0.6765 - val_loss: 0.6948 - val_output_loss: 0.6948 - val_output_binary_crossentropy: 0.6948\n",
      "Epoch 12/100\n",
      "1/1 [==============================] - 0s 475ms/step - loss: 0.6987 - output_loss: 0.6987 - output_binary_crossentropy: 0.6987 - val_loss: 0.7090 - val_output_loss: 0.7090 - val_output_binary_crossentropy: 0.7090\n",
      "Epoch 13/100\n",
      "1/1 [==============================] - 1s 632ms/step - loss: 0.7062 - output_loss: 0.7062 - output_binary_crossentropy: 0.7062 - val_loss: 0.7261 - val_output_loss: 0.7261 - val_output_binary_crossentropy: 0.7261\n",
      "Epoch 14/100\n",
      "1/1 [==============================] - 0s 444ms/step - loss: 0.7243 - output_loss: 0.7243 - output_binary_crossentropy: 0.7243 - val_loss: 0.7170 - val_output_loss: 0.7170 - val_output_binary_crossentropy: 0.7170\n",
      "Epoch 15/100\n",
      "1/1 [==============================] - 0s 382ms/step - loss: 0.7195 - output_loss: 0.7195 - output_binary_crossentropy: 0.7195 - val_loss: 0.7229 - val_output_loss: 0.7229 - val_output_binary_crossentropy: 0.7229\n",
      "Epoch 16/100\n",
      "1/1 [==============================] - 1s 502ms/step - loss: 0.7125 - output_loss: 0.7125 - output_binary_crossentropy: 0.7125 - val_loss: 0.6943 - val_output_loss: 0.6943 - val_output_binary_crossentropy: 0.6943\n",
      "Epoch 17/100\n",
      "1/1 [==============================] - 1s 533ms/step - loss: 0.6936 - output_loss: 0.6936 - output_binary_crossentropy: 0.6936 - val_loss: 0.6765 - val_output_loss: 0.6765 - val_output_binary_crossentropy: 0.6765\n",
      "Epoch 18/100\n",
      "1/1 [==============================] - 1s 554ms/step - loss: 0.6789 - output_loss: 0.6789 - output_binary_crossentropy: 0.6789 - val_loss: 0.6801 - val_output_loss: 0.6801 - val_output_binary_crossentropy: 0.6801\n",
      "Epoch 19/100\n",
      "1/1 [==============================] - 0s 427ms/step - loss: 0.6706 - output_loss: 0.6706 - output_binary_crossentropy: 0.6706 - val_loss: 0.6485 - val_output_loss: 0.6485 - val_output_binary_crossentropy: 0.6485\n",
      "Epoch 20/100\n",
      "1/1 [==============================] - 0s 461ms/step - loss: 0.6607 - output_loss: 0.6607 - output_binary_crossentropy: 0.6607 - val_loss: 0.6798 - val_output_loss: 0.6798 - val_output_binary_crossentropy: 0.6798\n",
      "Epoch 21/100\n",
      "1/1 [==============================] - 1s 550ms/step - loss: 0.6497 - output_loss: 0.6497 - output_binary_crossentropy: 0.6497 - val_loss: 0.6478 - val_output_loss: 0.6478 - val_output_binary_crossentropy: 0.6478\n",
      "Epoch 22/100\n",
      "1/1 [==============================] - 0s 388ms/step - loss: 0.6445 - output_loss: 0.6445 - output_binary_crossentropy: 0.6445 - val_loss: 0.6050 - val_output_loss: 0.6050 - val_output_binary_crossentropy: 0.6050\n",
      "Epoch 23/100\n",
      "1/1 [==============================] - 0s 367ms/step - loss: 0.6581 - output_loss: 0.6581 - output_binary_crossentropy: 0.6581 - val_loss: 0.6502 - val_output_loss: 0.6502 - val_output_binary_crossentropy: 0.6502\n",
      "Epoch 24/100\n",
      "1/1 [==============================] - 0s 415ms/step - loss: 0.6602 - output_loss: 0.6602 - output_binary_crossentropy: 0.6602 - val_loss: 0.6292 - val_output_loss: 0.6292 - val_output_binary_crossentropy: 0.6292\n",
      "Epoch 25/100\n",
      "1/1 [==============================] - 0s 399ms/step - loss: 0.6525 - output_loss: 0.6525 - output_binary_crossentropy: 0.6525 - val_loss: 0.6431 - val_output_loss: 0.6431 - val_output_binary_crossentropy: 0.6431\n",
      "Epoch 26/100\n",
      "1/1 [==============================] - 0s 396ms/step - loss: 0.6561 - output_loss: 0.6561 - output_binary_crossentropy: 0.6561 - val_loss: 0.6718 - val_output_loss: 0.6718 - val_output_binary_crossentropy: 0.6718\n",
      "Epoch 27/100\n",
      "1/1 [==============================] - 0s 389ms/step - loss: 0.6417 - output_loss: 0.6417 - output_binary_crossentropy: 0.6417 - val_loss: 0.6345 - val_output_loss: 0.6345 - val_output_binary_crossentropy: 0.6345\n",
      "Epoch 28/100\n",
      "1/1 [==============================] - 0s 380ms/step - loss: 0.6297 - output_loss: 0.6297 - output_binary_crossentropy: 0.6297 - val_loss: 0.6231 - val_output_loss: 0.6231 - val_output_binary_crossentropy: 0.6231\n",
      "Epoch 29/100\n",
      "1/1 [==============================] - 0s 475ms/step - loss: 0.6076 - output_loss: 0.6076 - output_binary_crossentropy: 0.6076 - val_loss: 0.6456 - val_output_loss: 0.6456 - val_output_binary_crossentropy: 0.6456\n",
      "Epoch 30/100\n",
      "1/1 [==============================] - 0s 434ms/step - loss: 0.5980 - output_loss: 0.5980 - output_binary_crossentropy: 0.5980 - val_loss: 0.5655 - val_output_loss: 0.5655 - val_output_binary_crossentropy: 0.5655\n",
      "Epoch 31/100\n",
      "1/1 [==============================] - 0s 422ms/step - loss: 0.5831 - output_loss: 0.5831 - output_binary_crossentropy: 0.5831 - val_loss: 0.5595 - val_output_loss: 0.5595 - val_output_binary_crossentropy: 0.5595\n",
      "Epoch 32/100\n",
      "1/1 [==============================] - 0s 397ms/step - loss: 0.5656 - output_loss: 0.5656 - output_binary_crossentropy: 0.5656 - val_loss: 0.5642 - val_output_loss: 0.5642 - val_output_binary_crossentropy: 0.5642\n",
      "Epoch 33/100\n",
      "1/1 [==============================] - 0s 377ms/step - loss: 0.5656 - output_loss: 0.5656 - output_binary_crossentropy: 0.5656 - val_loss: 0.4921 - val_output_loss: 0.4921 - val_output_binary_crossentropy: 0.4921\n",
      "Epoch 34/100\n",
      "1/1 [==============================] - 0s 392ms/step - loss: 0.5309 - output_loss: 0.5309 - output_binary_crossentropy: 0.5309 - val_loss: 0.5081 - val_output_loss: 0.5081 - val_output_binary_crossentropy: 0.5081\n",
      "Epoch 35/100\n",
      "1/1 [==============================] - 0s 391ms/step - loss: 0.5199 - output_loss: 0.5199 - output_binary_crossentropy: 0.5199 - val_loss: 0.4919 - val_output_loss: 0.4919 - val_output_binary_crossentropy: 0.4919\n",
      "Epoch 36/100\n",
      "1/1 [==============================] - 0s 405ms/step - loss: 0.5262 - output_loss: 0.5262 - output_binary_crossentropy: 0.5262 - val_loss: 0.4494 - val_output_loss: 0.4494 - val_output_binary_crossentropy: 0.4494\n",
      "Epoch 37/100\n",
      "1/1 [==============================] - 0s 420ms/step - loss: 0.4975 - output_loss: 0.4975 - output_binary_crossentropy: 0.4975 - val_loss: 0.4954 - val_output_loss: 0.4954 - val_output_binary_crossentropy: 0.4954\n",
      "Epoch 38/100\n",
      "1/1 [==============================] - 0s 410ms/step - loss: 0.5059 - output_loss: 0.5059 - output_binary_crossentropy: 0.5059 - val_loss: 0.4759 - val_output_loss: 0.4759 - val_output_binary_crossentropy: 0.4759\n",
      "Epoch 39/100\n",
      "1/1 [==============================] - 0s 413ms/step - loss: 0.4943 - output_loss: 0.4943 - output_binary_crossentropy: 0.4943 - val_loss: 0.4610 - val_output_loss: 0.4610 - val_output_binary_crossentropy: 0.4610\n",
      "Epoch 40/100\n",
      "1/1 [==============================] - 0s 382ms/step - loss: 0.4668 - output_loss: 0.4668 - output_binary_crossentropy: 0.4668 - val_loss: 0.3962 - val_output_loss: 0.3962 - val_output_binary_crossentropy: 0.3962\n",
      "Epoch 41/100\n",
      "1/1 [==============================] - 0s 356ms/step - loss: 0.4728 - output_loss: 0.4728 - output_binary_crossentropy: 0.4728 - val_loss: 0.4374 - val_output_loss: 0.4374 - val_output_binary_crossentropy: 0.4374\n",
      "Epoch 42/100\n",
      "1/1 [==============================] - 0s 345ms/step - loss: 0.4469 - output_loss: 0.4469 - output_binary_crossentropy: 0.4469 - val_loss: 0.4940 - val_output_loss: 0.4940 - val_output_binary_crossentropy: 0.4940\n",
      "Epoch 43/100\n",
      "1/1 [==============================] - 0s 372ms/step - loss: 0.4765 - output_loss: 0.4765 - output_binary_crossentropy: 0.4765 - val_loss: 0.3932 - val_output_loss: 0.3932 - val_output_binary_crossentropy: 0.3932\n",
      "Epoch 44/100\n",
      "1/1 [==============================] - 0s 395ms/step - loss: 0.4707 - output_loss: 0.4707 - output_binary_crossentropy: 0.4707 - val_loss: 0.4869 - val_output_loss: 0.4869 - val_output_binary_crossentropy: 0.4869\n",
      "Epoch 45/100\n",
      "1/1 [==============================] - 0s 391ms/step - loss: 0.4455 - output_loss: 0.4455 - output_binary_crossentropy: 0.4455 - val_loss: 0.3929 - val_output_loss: 0.3929 - val_output_binary_crossentropy: 0.3929\n",
      "Epoch 46/100\n",
      "1/1 [==============================] - 0s 353ms/step - loss: 0.4340 - output_loss: 0.4340 - output_binary_crossentropy: 0.4340 - val_loss: 0.4518 - val_output_loss: 0.4518 - val_output_binary_crossentropy: 0.4518\n",
      "Epoch 47/100\n",
      "1/1 [==============================] - 0s 397ms/step - loss: 0.4313 - output_loss: 0.4313 - output_binary_crossentropy: 0.4313 - val_loss: 0.5055 - val_output_loss: 0.5055 - val_output_binary_crossentropy: 0.5055\n",
      "Epoch 48/100\n",
      "1/1 [==============================] - 0s 423ms/step - loss: 0.4593 - output_loss: 0.4593 - output_binary_crossentropy: 0.4593 - val_loss: 0.4978 - val_output_loss: 0.4978 - val_output_binary_crossentropy: 0.4978\n",
      "Epoch 49/100\n",
      "1/1 [==============================] - 0s 399ms/step - loss: 0.4926 - output_loss: 0.4926 - output_binary_crossentropy: 0.4926 - val_loss: 0.4417 - val_output_loss: 0.4417 - val_output_binary_crossentropy: 0.4417\n",
      "Epoch 50/100\n",
      "1/1 [==============================] - 0s 379ms/step - loss: 0.5662 - output_loss: 0.5662 - output_binary_crossentropy: 0.5662 - val_loss: 0.5223 - val_output_loss: 0.5223 - val_output_binary_crossentropy: 0.5223\n",
      "Epoch 51/100\n",
      "1/1 [==============================] - 0s 365ms/step - loss: 0.4982 - output_loss: 0.4982 - output_binary_crossentropy: 0.4982 - val_loss: 0.4433 - val_output_loss: 0.4433 - val_output_binary_crossentropy: 0.4433\n",
      "Epoch 52/100\n",
      "1/1 [==============================] - 0s 348ms/step - loss: 0.4698 - output_loss: 0.4698 - output_binary_crossentropy: 0.4698 - val_loss: 0.4973 - val_output_loss: 0.4973 - val_output_binary_crossentropy: 0.4973\n",
      "Epoch 53/100\n",
      "1/1 [==============================] - 0s 367ms/step - loss: 0.4626 - output_loss: 0.4626 - output_binary_crossentropy: 0.4626 - val_loss: 0.3562 - val_output_loss: 0.3562 - val_output_binary_crossentropy: 0.3562\n",
      "Epoch 54/100\n",
      "1/1 [==============================] - 0s 407ms/step - loss: 0.4427 - output_loss: 0.4427 - output_binary_crossentropy: 0.4427 - val_loss: 0.4146 - val_output_loss: 0.4146 - val_output_binary_crossentropy: 0.4146\n",
      "Epoch 55/100\n",
      "1/1 [==============================] - 0s 416ms/step - loss: 0.4019 - output_loss: 0.4019 - output_binary_crossentropy: 0.4019 - val_loss: 0.4314 - val_output_loss: 0.4314 - val_output_binary_crossentropy: 0.4314\n",
      "Epoch 56/100\n",
      "1/1 [==============================] - 0s 356ms/step - loss: 0.4674 - output_loss: 0.4674 - output_binary_crossentropy: 0.4674 - val_loss: 0.3497 - val_output_loss: 0.3497 - val_output_binary_crossentropy: 0.3497\n",
      "Epoch 57/100\n",
      "1/1 [==============================] - 0s 373ms/step - loss: 0.4611 - output_loss: 0.4611 - output_binary_crossentropy: 0.4611 - val_loss: 0.5208 - val_output_loss: 0.5208 - val_output_binary_crossentropy: 0.5208\n",
      "Epoch 58/100\n",
      "1/1 [==============================] - 0s 376ms/step - loss: 0.4515 - output_loss: 0.4515 - output_binary_crossentropy: 0.4515 - val_loss: 0.4303 - val_output_loss: 0.4303 - val_output_binary_crossentropy: 0.4303\n",
      "Epoch 59/100\n",
      "1/1 [==============================] - 0s 464ms/step - loss: 0.4881 - output_loss: 0.4881 - output_binary_crossentropy: 0.4881 - val_loss: 0.3699 - val_output_loss: 0.3699 - val_output_binary_crossentropy: 0.3699\n",
      "Epoch 60/100\n",
      "1/1 [==============================] - 0s 449ms/step - loss: 0.4228 - output_loss: 0.4228 - output_binary_crossentropy: 0.4228 - val_loss: 0.3628 - val_output_loss: 0.3628 - val_output_binary_crossentropy: 0.3628\n",
      "Epoch 61/100\n",
      "1/1 [==============================] - 0s 447ms/step - loss: 0.4350 - output_loss: 0.4350 - output_binary_crossentropy: 0.4350 - val_loss: 0.5171 - val_output_loss: 0.5171 - val_output_binary_crossentropy: 0.5171\n",
      "Epoch 62/100\n",
      "1/1 [==============================] - 0s 396ms/step - loss: 0.4382 - output_loss: 0.4382 - output_binary_crossentropy: 0.4382 - val_loss: 0.4032 - val_output_loss: 0.4032 - val_output_binary_crossentropy: 0.4032\n",
      "Epoch 63/100\n",
      "1/1 [==============================] - 0s 429ms/step - loss: 0.4283 - output_loss: 0.4283 - output_binary_crossentropy: 0.4283 - val_loss: 0.4002 - val_output_loss: 0.4002 - val_output_binary_crossentropy: 0.4002\n",
      "Epoch 64/100\n",
      "1/1 [==============================] - 0s 444ms/step - loss: 0.4228 - output_loss: 0.4228 - output_binary_crossentropy: 0.4228 - val_loss: 0.3650 - val_output_loss: 0.3650 - val_output_binary_crossentropy: 0.3650\n",
      "Epoch 65/100\n",
      "1/1 [==============================] - 0s 363ms/step - loss: 0.4211 - output_loss: 0.4211 - output_binary_crossentropy: 0.4211 - val_loss: 0.3901 - val_output_loss: 0.3901 - val_output_binary_crossentropy: 0.3901\n",
      "Epoch 66/100\n",
      "1/1 [==============================] - 0s 364ms/step - loss: 0.4717 - output_loss: 0.4717 - output_binary_crossentropy: 0.4717 - val_loss: 0.3588 - val_output_loss: 0.3588 - val_output_binary_crossentropy: 0.3588\n",
      "Epoch 67/100\n",
      "1/1 [==============================] - 0s 395ms/step - loss: 0.3993 - output_loss: 0.3993 - output_binary_crossentropy: 0.3993 - val_loss: 0.3491 - val_output_loss: 0.3491 - val_output_binary_crossentropy: 0.3491\n",
      "Epoch 68/100\n",
      "1/1 [==============================] - 0s 389ms/step - loss: 0.4878 - output_loss: 0.4878 - output_binary_crossentropy: 0.4878 - val_loss: 0.3691 - val_output_loss: 0.3691 - val_output_binary_crossentropy: 0.3691\n",
      "Epoch 69/100\n",
      "1/1 [==============================] - 0s 386ms/step - loss: 0.4404 - output_loss: 0.4404 - output_binary_crossentropy: 0.4404 - val_loss: 0.3618 - val_output_loss: 0.3618 - val_output_binary_crossentropy: 0.3618\n",
      "Epoch 70/100\n",
      "1/1 [==============================] - 0s 356ms/step - loss: 0.4048 - output_loss: 0.4048 - output_binary_crossentropy: 0.4048 - val_loss: 0.3176 - val_output_loss: 0.3176 - val_output_binary_crossentropy: 0.3176\n",
      "Epoch 71/100\n",
      "1/1 [==============================] - 0s 340ms/step - loss: 0.4554 - output_loss: 0.4554 - output_binary_crossentropy: 0.4554 - val_loss: 0.3699 - val_output_loss: 0.3699 - val_output_binary_crossentropy: 0.3699\n",
      "Epoch 72/100\n",
      "1/1 [==============================] - 0s 352ms/step - loss: 0.4319 - output_loss: 0.4319 - output_binary_crossentropy: 0.4319 - val_loss: 0.4092 - val_output_loss: 0.4092 - val_output_binary_crossentropy: 0.4092\n",
      "Epoch 73/100\n",
      "1/1 [==============================] - 0s 385ms/step - loss: 0.4104 - output_loss: 0.4104 - output_binary_crossentropy: 0.4104 - val_loss: 0.4188 - val_output_loss: 0.4188 - val_output_binary_crossentropy: 0.4188\n",
      "Epoch 74/100\n",
      "1/1 [==============================] - 0s 420ms/step - loss: 0.4097 - output_loss: 0.4097 - output_binary_crossentropy: 0.4097 - val_loss: 0.3986 - val_output_loss: 0.3986 - val_output_binary_crossentropy: 0.3986\n",
      "Epoch 75/100\n",
      "1/1 [==============================] - 0s 382ms/step - loss: 0.4320 - output_loss: 0.4320 - output_binary_crossentropy: 0.4320 - val_loss: 0.4582 - val_output_loss: 0.4582 - val_output_binary_crossentropy: 0.4582\n",
      "Epoch 76/100\n",
      "1/1 [==============================] - 0s 383ms/step - loss: 0.4355 - output_loss: 0.4355 - output_binary_crossentropy: 0.4355 - val_loss: 0.5394 - val_output_loss: 0.5394 - val_output_binary_crossentropy: 0.5394\n",
      "Epoch 77/100\n",
      "1/1 [==============================] - 0s 399ms/step - loss: 0.4933 - output_loss: 0.4933 - output_binary_crossentropy: 0.4933 - val_loss: 0.5678 - val_output_loss: 0.5678 - val_output_binary_crossentropy: 0.5678\n",
      "Epoch 78/100\n",
      "1/1 [==============================] - 0s 373ms/step - loss: 0.5582 - output_loss: 0.5582 - output_binary_crossentropy: 0.5582 - val_loss: 0.6682 - val_output_loss: 0.6682 - val_output_binary_crossentropy: 0.6682\n",
      "Epoch 79/100\n",
      "1/1 [==============================] - 0s 406ms/step - loss: 0.5761 - output_loss: 0.5761 - output_binary_crossentropy: 0.5761 - val_loss: 0.5786 - val_output_loss: 0.5786 - val_output_binary_crossentropy: 0.5786\n",
      "Epoch 80/100\n",
      "1/1 [==============================] - 1s 537ms/step - loss: 0.5729 - output_loss: 0.5729 - output_binary_crossentropy: 0.5729 - val_loss: 0.5876 - val_output_loss: 0.5876 - val_output_binary_crossentropy: 0.5876\n",
      "Epoch 81/100\n",
      "1/1 [==============================] - 0s 370ms/step - loss: 0.5584 - output_loss: 0.5584 - output_binary_crossentropy: 0.5584 - val_loss: 0.5977 - val_output_loss: 0.5977 - val_output_binary_crossentropy: 0.5977\n",
      "Epoch 82/100\n",
      "1/1 [==============================] - 0s 411ms/step - loss: 0.5634 - output_loss: 0.5634 - output_binary_crossentropy: 0.5634 - val_loss: 0.5760 - val_output_loss: 0.5760 - val_output_binary_crossentropy: 0.5760\n",
      "Epoch 83/100\n",
      "1/1 [==============================] - 0s 427ms/step - loss: 0.5625 - output_loss: 0.5625 - output_binary_crossentropy: 0.5625 - val_loss: 0.5256 - val_output_loss: 0.5256 - val_output_binary_crossentropy: 0.5256\n",
      "Epoch 84/100\n",
      "1/1 [==============================] - 0s 396ms/step - loss: 0.5547 - output_loss: 0.5547 - output_binary_crossentropy: 0.5547 - val_loss: 0.5797 - val_output_loss: 0.5797 - val_output_binary_crossentropy: 0.5797\n",
      "Epoch 85/100\n",
      "1/1 [==============================] - 0s 364ms/step - loss: 0.5558 - output_loss: 0.5558 - output_binary_crossentropy: 0.5558 - val_loss: 0.5478 - val_output_loss: 0.5478 - val_output_binary_crossentropy: 0.5478\n",
      "Epoch 86/100\n",
      "1/1 [==============================] - 0s 340ms/step - loss: 0.5461 - output_loss: 0.5461 - output_binary_crossentropy: 0.5461 - val_loss: 0.5257 - val_output_loss: 0.5257 - val_output_binary_crossentropy: 0.5257\n",
      "Epoch 87/100\n",
      "1/1 [==============================] - 0s 369ms/step - loss: 0.5425 - output_loss: 0.5425 - output_binary_crossentropy: 0.5425 - val_loss: 0.4794 - val_output_loss: 0.4794 - val_output_binary_crossentropy: 0.4794\n",
      "Epoch 88/100\n",
      "1/1 [==============================] - 0s 397ms/step - loss: 0.5082 - output_loss: 0.5082 - output_binary_crossentropy: 0.5082 - val_loss: 0.5341 - val_output_loss: 0.5341 - val_output_binary_crossentropy: 0.5341\n",
      "Epoch 89/100\n",
      "1/1 [==============================] - 0s 385ms/step - loss: 0.4958 - output_loss: 0.4958 - output_binary_crossentropy: 0.4958 - val_loss: 0.5315 - val_output_loss: 0.5315 - val_output_binary_crossentropy: 0.5315\n",
      "Epoch 90/100\n",
      "1/1 [==============================] - 0s 367ms/step - loss: 0.4794 - output_loss: 0.4794 - output_binary_crossentropy: 0.4794 - val_loss: 0.4200 - val_output_loss: 0.4200 - val_output_binary_crossentropy: 0.4200\n",
      "Epoch 91/100\n",
      "1/1 [==============================] - 0s 363ms/step - loss: 0.4824 - output_loss: 0.4824 - output_binary_crossentropy: 0.4824 - val_loss: 0.4393 - val_output_loss: 0.4393 - val_output_binary_crossentropy: 0.4393\n",
      "Epoch 92/100\n",
      "1/1 [==============================] - 0s 400ms/step - loss: 0.5098 - output_loss: 0.5098 - output_binary_crossentropy: 0.5098 - val_loss: 0.4321 - val_output_loss: 0.4321 - val_output_binary_crossentropy: 0.4321\n",
      "Epoch 93/100\n",
      "1/1 [==============================] - 1s 562ms/step - loss: 0.4784 - output_loss: 0.4784 - output_binary_crossentropy: 0.4784 - val_loss: 0.4430 - val_output_loss: 0.4430 - val_output_binary_crossentropy: 0.4430\n",
      "Epoch 94/100\n",
      "1/1 [==============================] - 0s 449ms/step - loss: 0.4535 - output_loss: 0.4535 - output_binary_crossentropy: 0.4535 - val_loss: 0.4159 - val_output_loss: 0.4159 - val_output_binary_crossentropy: 0.4159\n",
      "Epoch 95/100\n",
      "1/1 [==============================] - 0s 437ms/step - loss: 0.4393 - output_loss: 0.4393 - output_binary_crossentropy: 0.4393 - val_loss: 0.3786 - val_output_loss: 0.3786 - val_output_binary_crossentropy: 0.3786\n",
      "Epoch 96/100\n",
      "1/1 [==============================] - 1s 516ms/step - loss: 0.4473 - output_loss: 0.4473 - output_binary_crossentropy: 0.4473 - val_loss: 0.4292 - val_output_loss: 0.4292 - val_output_binary_crossentropy: 0.4292\n",
      "Epoch 97/100\n",
      "1/1 [==============================] - 0s 484ms/step - loss: 0.4416 - output_loss: 0.4416 - output_binary_crossentropy: 0.4416 - val_loss: 0.3539 - val_output_loss: 0.3539 - val_output_binary_crossentropy: 0.3539\n",
      "Epoch 98/100\n",
      "1/1 [==============================] - 0s 417ms/step - loss: 0.4802 - output_loss: 0.4802 - output_binary_crossentropy: 0.4802 - val_loss: 0.4389 - val_output_loss: 0.4389 - val_output_binary_crossentropy: 0.4389\n",
      "Epoch 99/100\n",
      "1/1 [==============================] - 0s 434ms/step - loss: 0.4207 - output_loss: 0.4207 - output_binary_crossentropy: 0.4207 - val_loss: 0.4720 - val_output_loss: 0.4720 - val_output_binary_crossentropy: 0.4720\n",
      "Epoch 100/100\n",
      "1/1 [==============================] - 0s 395ms/step - loss: 0.4920 - output_loss: 0.4920 - output_binary_crossentropy: 0.4920 - val_loss: 0.3637 - val_output_loss: 0.3637 - val_output_binary_crossentropy: 0.3637\n"
     ]
    },
    {
     "data": {
      "text/plain": [
       "<keras.src.callbacks.History at 0x23cba94dc30>"
      ]
     },
     "execution_count": 6,
     "metadata": {},
     "output_type": "execute_result"
    }
   ],
   "source": [
    "model.compile(\n",
    "    optimizer = Adam(learning_rate=0.001),\n",
    "    loss = {\"output\": \"binary_crossentropy\", \"importances\": None, \"att_weights\": None},\n",
    "    metrics= {\"output\": \"binary_crossentropy\", \"importances\": None, \"att_weights\": None},\n",
    "        )\n",
    "\n",
    "# Train the model\n",
    "model.fit(model.training_dataset, epochs=100, validation_data=model.validation_dataset)\n",
    "\n"
   ]
  },
  {
   "cell_type": "code",
   "execution_count": 7,
   "metadata": {},
   "outputs": [
    {
     "name": "stdout",
     "output_type": "stream",
     "text": [
      "Model: \"ft_transformer\"\n",
      "_________________________________________________________________\n",
      " Layer (type)                Output Shape              Param #   \n",
      "=================================================================\n",
      " ft_transformer_encoder (FT  multiple                  146176    \n",
      " TransformerEncoder)                                             \n",
      "                                                                 \n",
      " sequential_4 (Sequential)   (None, 72)                15192     \n",
      "                                                                 \n",
      " dense_12 (Dense)            multiple                  73        \n",
      "                                                                 \n",
      " layer_normalization_8 (Lay  multiple                  64        \n",
      " erNormalization)                                                \n",
      "                                                                 \n",
      "=================================================================\n",
      "Total params: 161505 (630.88 KB)\n",
      "Trainable params: 161505 (630.88 KB)\n",
      "Non-trainable params: 0 (0.00 Byte)\n",
      "_________________________________________________________________\n"
     ]
    }
   ],
   "source": [
    "model.summary()"
   ]
  },
  {
   "cell_type": "code",
   "execution_count": 11,
   "metadata": {},
   "outputs": [
    {
     "data": {
      "image/png": "[encoded data removed]",
      "text/plain": [
       "<Figure size 600x400 with 1 Axes>"
      ]
     },
     "metadata": {},
     "output_type": "display_data"
    }
   ],
   "source": [
    "model.plot_importances()"
   ]
  },
  {
   "cell_type": "code",
   "execution_count": 12,
   "metadata": {},
   "outputs": [
    {
     "name": "stdout",
     "output_type": "stream",
     "text": [
      "--- Preprocessing ---\n"
     ]
    },
    {
     "name": "stderr",
     "output_type": "stream",
     "text": [
      "0it [00:00, ?it/s]"
     ]
    },
    {
     "name": "stderr",
     "output_type": "stream",
     "text": [
      "10it [00:03,  2.61it/s]\n"
     ]
    },
    {
     "data": {
      "text/plain": [
       "<Figure size 1200x400 with 0 Axes>"
      ]
     },
     "metadata": {},
     "output_type": "display_data"
    },
    {
     "data": {
      "image/png": "[encoded data removed]",
      "text/plain": [
       "<Figure size 640x480 with 1 Axes>"
      ]
     },
     "metadata": {},
     "output_type": "display_data"
    }
   ],
   "source": [
    "model.plot_categorical_importances()"
   ]
  }
 ],
 "metadata": {
  "kernelspec": {
   "display_name": "xDl_venv",
   "language": "python",
   "name": "xdl_venv"
  },
  "language_info": {
   "codemirror_mode": {
    "name": "ipython",
    "version": 3
   },
   "file_extension": ".py",
   "mimetype": "text/x-python",
   "name": "python",
   "nbconvert_exporter": "python",
   "pygments_lexer": "ipython3",
   "version": "3.10.13"
  },
  "orig_nbformat": 4
 },
 "nbformat": 4,
 "nbformat_minor": 2
}
