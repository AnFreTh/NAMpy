{
 "cells": [
  {
   "cell_type": "code",
   "execution_count": 135,
   "metadata": {},
   "outputs": [],
   "source": [
    "import pandas as pd\n",
    "import pandas as pd\n",
    "from tensorflow.keras.optimizers import Adam\n",
    "from sklearn.preprocessing import StandardScaler\n",
    "import tensorflow as tf\n",
    "from xDL.utils.data_utils import *"
   ]
  },
  {
   "cell_type": "code",
   "execution_count": 136,
   "metadata": {},
   "outputs": [],
   "source": [
    "import sys\n",
    "sys.path.append('..')\n",
    "from xDL.models.NATT import NATT"
   ]
  },
  {
   "cell_type": "code",
   "execution_count": 137,
   "metadata": {},
   "outputs": [
    {
     "data": {
      "text/plain": [
       "<matplotlib.collections.PathCollection at 0x1f72318a650>"
      ]
     },
     "execution_count": 137,
     "metadata": {},
     "output_type": "execute_result"
    },
    {
     "data": {
      "image/png": "[encoded data removed]",
      "text/plain": [
       "<Figure size 640x480 with 1 Axes>"
      ]
     },
     "metadata": {},
     "output_type": "display_data"
    }
   ],
   "source": [
    "import numpy as np\n",
    "import pandas as pd\n",
    "import matplotlib.pyplot as plt\n",
    "\n",
    "# Set a random seed for reproducibility\n",
    "np.random.seed(202)\n",
    "\n",
    "# Number of data points\n",
    "num_samples = 5000\n",
    "\n",
    "# Define a list of possible categorical values\n",
    "categories = ['A', 'B']\n",
    "\n",
    "# Generate random categorical data as an array of strings\n",
    "categorical1 = np.random.choice(categories, size=num_samples)\n",
    "\n",
    "categories = ['Yes', 'No', 'Maybe']\n",
    "categorical2 = np.random.choice(categories, size=num_samples)\n",
    "\n",
    "# Generate the input variable X as a random draw from a linspace\n",
    "X1 = np.random.uniform(1, 10, size=num_samples)\n",
    "X2 = np.random.uniform(2, 4, size=num_samples)\n",
    "\n",
    "# Generate continuous variables as a function of X with noise dependent on X\n",
    "def func1(x):\n",
    "    return 5*np.sin(x) / 5 \n",
    "\n",
    "def func2(x):\n",
    "    return -(2*(x-3))**2 / 5\n",
    "\n",
    "\n",
    "# Create mappings for categorical values\n",
    "category_map1 = {'A': 200.0, 'B': -11111}\n",
    "category_map2 = {'Yes': 0.0, 'No': -0.5, 'Maybe': 0.5}\n",
    "\n",
    "# Calculate y by combining continuous and categorical functions\n",
    "#\n",
    "y = func1(X1) - func2(X2)  + np.vectorize(category_map1.get)(categorical1) + np.vectorize(category_map2.get)(categorical2) + np.random.normal(0, 0.3, size=num_samples) \n",
    "\n",
    "\n",
    "data = pd.DataFrame({\"Target\": y, 'Category1': categorical1, 'Category2': categorical2, 'Continuous1':X1, 'Continuous2':X2})\n",
    "\n",
    "\n",
    "plt.scatter(X1, y, s=2)\n"
   ]
  },
  {
   "cell_type": "code",
   "execution_count": 138,
   "metadata": {},
   "outputs": [
    {
     "name": "stdout",
     "output_type": "stream",
     "text": [
      "Epoch 1/50\n",
      "(None, 3, 32)\n",
      "(None, 3, 32)\n",
      "2/2 [==============================] - ETA: 0s - loss: 61651356.0000 - output_loss: 61651356.0000 - output_mse: 61651356.0000 - output_mae: 5647.3232(None, 3, 32)\n",
      "2/2 [==============================] - 10s 977ms/step - loss: 61651356.0000 - output_loss: 61651356.0000 - output_mse: 61651356.0000 - output_mae: 5647.3232 - val_loss: 60507916.0000 - val_output_loss: 60507916.0000 - val_output_mse: 60507916.0000 - val_output_mae: 5546.3730\n",
      "Epoch 2/50\n",
      "2/2 [==============================] - 1s 435ms/step - loss: 62112160.0000 - output_loss: 62112160.0000 - output_mse: 62112160.0000 - output_mae: 5688.2363 - val_loss: 62850864.0000 - val_output_loss: 62850864.0000 - val_output_mse: 62850864.0000 - val_output_mae: 5753.6968\n",
      "Epoch 3/50\n",
      "2/2 [==============================] - 1s 489ms/step - loss: 61678288.0000 - output_loss: 61678288.0000 - output_mse: 61678288.0000 - output_mae: 5650.0449 - val_loss: 58654232.0000 - val_output_loss: 58654232.0000 - val_output_mse: 58654232.0000 - val_output_mae: 5382.7842\n",
      "Epoch 4/50\n",
      "2/2 [==============================] - 1s 345ms/step - loss: 61737952.0000 - output_loss: 61737952.0000 - output_mse: 61737952.0000 - output_mae: 5655.4829 - val_loss: 61736008.0000 - val_output_loss: 61736008.0000 - val_output_mse: 61736008.0000 - val_output_mae: 5655.4600\n",
      "Epoch 5/50\n",
      "2/2 [==============================] - 1s 425ms/step - loss: 61427632.0000 - output_loss: 61427632.0000 - output_mse: 61427632.0000 - output_mae: 5628.2114 - val_loss: 61118300.0000 - val_output_loss: 61118300.0000 - val_output_mse: 61118300.0000 - val_output_mae: 5600.9561\n",
      "Epoch 6/50\n",
      "2/2 [==============================] - 1s 480ms/step - loss: 61363928.0000 - output_loss: 61363928.0000 - output_mse: 61363928.0000 - output_mae: 5622.7661 - val_loss: 61855736.0000 - val_output_loss: 61855736.0000 - val_output_mse: 61855736.0000 - val_output_mae: 5666.4199\n",
      "Epoch 7/50\n",
      "2/2 [==============================] - 1s 411ms/step - loss: 61423040.0000 - output_loss: 61423040.0000 - output_mse: 61423040.0000 - output_mae: 5628.2202 - val_loss: 63951256.0000 - val_output_loss: 63951256.0000 - val_output_mse: 63951256.0000 - val_output_mae: 5851.8281\n",
      "Epoch 8/50\n",
      "2/2 [==============================] - 1s 453ms/step - loss: 60926856.0000 - output_loss: 60926856.0000 - output_mse: 60926856.0000 - output_mae: 5584.5903 - val_loss: 59259164.0000 - val_output_loss: 59259164.0000 - val_output_mse: 59259164.0000 - val_output_mae: 5437.3032\n",
      "Epoch 9/50\n",
      "2/2 [==============================] - 1s 482ms/step - loss: 61818160.0000 - output_loss: 61818160.0000 - output_mse: 61818160.0000 - output_mae: 5663.6680 - val_loss: 59750568.0000 - val_output_loss: 59750568.0000 - val_output_mse: 59750568.0000 - val_output_mae: 5481.0259\n",
      "Epoch 10/50\n",
      "2/2 [==============================] - 1s 436ms/step - loss: 61721640.0000 - output_loss: 61721640.0000 - output_mse: 61721640.0000 - output_mae: 5655.4902 - val_loss: 60855856.0000 - val_output_loss: 60855856.0000 - val_output_mse: 60855856.0000 - val_output_mae: 5579.1382\n",
      "Epoch 11/50\n",
      "2/2 [==============================] - 1s 453ms/step - loss: 62118568.0000 - output_loss: 62118568.0000 - output_mse: 62118568.0000 - output_mae: 5690.9287 - val_loss: 60110944.0000 - val_output_loss: 60110944.0000 - val_output_mse: 60110944.0000 - val_output_mae: 5513.7017\n",
      "Epoch 12/50\n",
      "2/2 [==============================] - 1s 439ms/step - loss: 61403980.0000 - output_loss: 61403980.0000 - output_mse: 61403980.0000 - output_mae: 5628.2017 - val_loss: 60968980.0000 - val_output_loss: 60968980.0000 - val_output_mse: 60968980.0000 - val_output_mae: 5590.0190\n",
      "Epoch 13/50\n",
      "2/2 [==============================] - 1s 499ms/step - loss: 60720768.0000 - output_loss: 60720768.0000 - output_mse: 60720768.0000 - output_mae: 5568.2329 - val_loss: 60223944.0000 - val_output_loss: 60223944.0000 - val_output_mse: 60223944.0000 - val_output_mae: 5524.6294\n",
      "Epoch 14/50\n",
      "2/2 [==============================] - 1s 396ms/step - loss: 61238184.0000 - output_loss: 61238184.0000 - output_mse: 61238184.0000 - output_mae: 5614.5132 - val_loss: 59477008.0000 - val_output_loss: 59477008.0000 - val_output_mse: 59477008.0000 - val_output_mae: 5459.1851\n",
      "Epoch 15/50\n",
      "2/2 [==============================] - 1s 430ms/step - loss: 61416252.0000 - output_loss: 61416252.0000 - output_mse: 61416252.0000 - output_mae: 5630.8530 - val_loss: 63783184.0000 - val_output_loss: 63783184.0000 - val_output_mse: 63783184.0000 - val_output_mae: 5840.6567\n",
      "Epoch 16/50\n",
      "2/2 [==============================] - 1s 422ms/step - loss: 61962520.0000 - output_loss: 61962520.0000 - output_mse: 61962520.0000 - output_mae: 5679.8472 - val_loss: 60445984.0000 - val_output_loss: 60445984.0000 - val_output_mse: 60445984.0000 - val_output_mae: 5546.3018\n",
      "Epoch 17/50\n",
      "2/2 [==============================] - 1s 383ms/step - loss: 61027728.0000 - output_loss: 61027728.0000 - output_mse: 61027728.0000 - output_mae: 5598.0498 - val_loss: 63024292.0000 - val_output_loss: 63024292.0000 - val_output_mse: 63024292.0000 - val_output_mae: 5775.1484\n",
      "Epoch 18/50\n",
      "2/2 [==============================] - 1s 379ms/step - loss: 61263816.0000 - output_loss: 61263816.0000 - output_mse: 61263816.0000 - output_mae: 5619.8140 - val_loss: 62763836.0000 - val_output_loss: 62763836.0000 - val_output_mse: 62763836.0000 - val_output_mae: 5753.1401\n",
      "Epoch 19/50\n",
      "2/2 [==============================] - 1s 435ms/step - loss: 61528912.0000 - output_loss: 61528912.0000 - output_mse: 61528912.0000 - output_mae: 5644.3140 - val_loss: 60286716.0000 - val_output_loss: 60286716.0000 - val_output_mse: 60286716.0000 - val_output_mae: 5535.2749\n",
      "Epoch 20/50\n",
      "2/2 [==============================] - 1s 459ms/step - loss: 61729064.0000 - output_loss: 61729064.0000 - output_mse: 61729064.0000 - output_mae: 5663.2383 - val_loss: 60149828.0000 - val_output_loss: 60149828.0000 - val_output_mse: 60149828.0000 - val_output_mae: 5524.4292\n",
      "Epoch 21/50\n",
      "2/2 [==============================] - 1s 457ms/step - loss: 60851052.0000 - output_loss: 60851052.0000 - output_mse: 60851052.0000 - output_mae: 5587.0049 - val_loss: 59268304.0000 - val_output_loss: 59268304.0000 - val_output_mse: 59268304.0000 - val_output_mae: 5448.1626\n",
      "Epoch 22/50\n",
      "2/2 [==============================] - 1s 451ms/step - loss: 61232160.0000 - output_loss: 61232160.0000 - output_mse: 61232160.0000 - output_mae: 5622.2524 - val_loss: 62695720.0000 - val_output_loss: 62695720.0000 - val_output_mse: 62695720.0000 - val_output_mae: 5752.8540\n",
      "Epoch 23/50\n",
      "2/2 [==============================] - 1s 579ms/step - loss: 61488784.0000 - output_loss: 61488784.0000 - output_mse: 61488784.0000 - output_mae: 5646.6558 - val_loss: 61438360.0000 - val_output_loss: 61438360.0000 - val_output_mse: 61438360.0000 - val_output_mae: 5643.7363\n",
      "Epoch 24/50\n",
      "2/2 [==============================] - 1s 451ms/step - loss: 61679608.0000 - output_loss: 61679608.0000 - output_mse: 61679608.0000 - output_mae: 5665.5259 - val_loss: 59078112.0000 - val_output_loss: 59078112.0000 - val_output_mse: 59078112.0000 - val_output_mae: 5437.1938\n",
      "Epoch 25/50\n",
      "2/2 [==============================] - 1s 402ms/step - loss: 61405112.0000 - output_loss: 61405112.0000 - output_mse: 61405112.0000 - output_mae: 5643.6450 - val_loss: 63470300.0000 - val_output_loss: 63470300.0000 - val_output_mse: 63470300.0000 - val_output_mae: 5828.0239\n",
      "Epoch 26/50\n",
      "2/2 [==============================] - 1s 396ms/step - loss: 61806532.0000 - output_loss: 61806532.0000 - output_mse: 61806532.0000 - output_mae: 5681.4951 - val_loss: 60860008.0000 - val_output_loss: 60860008.0000 - val_output_mse: 60860008.0000 - val_output_mae: 5599.8955\n",
      "Epoch 27/50\n",
      "2/2 [==============================] - 1s 442ms/step - loss: 61924116.0000 - output_loss: 61924116.0000 - output_mse: 61924116.0000 - output_mae: 5694.7974 - val_loss: 61193380.0000 - val_output_loss: 61193380.0000 - val_output_mse: 61193380.0000 - val_output_mae: 5632.1929\n",
      "Epoch 28/50\n",
      "2/2 [==============================] - 1s 475ms/step - loss: 61488380.0000 - output_loss: 61488380.0000 - output_mse: 61488380.0000 - output_mae: 5659.3364 - val_loss: 61140196.0000 - val_output_loss: 61140196.0000 - val_output_mse: 61140196.0000 - val_output_mae: 5631.6021\n",
      "Epoch 29/50\n",
      "2/2 [==============================] - 1s 346ms/step - loss: 61014820.0000 - output_loss: 61014820.0000 - output_mse: 61014820.0000 - output_mae: 5621.1396 - val_loss: 63063552.0000 - val_output_loss: 63063552.0000 - val_output_mse: 63063552.0000 - val_output_mae: 5805.1748\n",
      "Epoch 30/50\n",
      "2/2 [==============================] - 1s 367ms/step - loss: 61457884.0000 - output_loss: 61457884.0000 - output_mse: 61457884.0000 - output_mae: 5664.1431 - val_loss: 57620332.0000 - val_output_loss: 57620332.0000 - val_output_mse: 57620332.0000 - val_output_mae: 5328.1191\n",
      "Epoch 31/50\n",
      "2/2 [==============================] - 1s 383ms/step - loss: 61561196.0000 - output_loss: 61561196.0000 - output_mse: 61561196.0000 - output_mae: 5677.4180 - val_loss: 60015544.0000 - val_output_loss: 60015544.0000 - val_output_mse: 60015544.0000 - val_output_mae: 5544.7319\n",
      "Epoch 32/50\n",
      "2/2 [==============================] - 1s 456ms/step - loss: 61285200.0000 - output_loss: 61285200.0000 - output_mse: 61285200.0000 - output_mae: 5658.0122 - val_loss: 59213052.0000 - val_output_loss: 59213052.0000 - val_output_mse: 59213052.0000 - val_output_mae: 5479.0684\n",
      "Epoch 33/50\n",
      "2/2 [==============================] - 1s 343ms/step - loss: 61070644.0000 - output_loss: 61070644.0000 - output_mse: 61070644.0000 - output_mae: 5644.1348 - val_loss: 61220324.0000 - val_output_loss: 61220324.0000 - val_output_mse: 61220324.0000 - val_output_mae: 5662.5220\n",
      "Epoch 34/50\n",
      "2/2 [==============================] - 1s 408ms/step - loss: 61305320.0000 - output_loss: 61305320.0000 - output_mse: 61305320.0000 - output_mae: 5670.9360 - val_loss: 59202468.0000 - val_output_loss: 59202468.0000 - val_output_mse: 59202468.0000 - val_output_mae: 5489.4448\n",
      "Epoch 35/50\n",
      "2/2 [==============================] - 1s 363ms/step - loss: 60766872.0000 - output_loss: 60766872.0000 - output_mse: 60766872.0000 - output_mae: 5629.6377 - val_loss: 62644624.0000 - val_output_loss: 62644624.0000 - val_output_mse: 62644624.0000 - val_output_mae: 5801.5371\n",
      "Epoch 36/50\n",
      "2/2 [==============================] - 1s 390ms/step - loss: 60807940.0000 - output_loss: 60807940.0000 - output_mse: 60807940.0000 - output_mae: 5640.3433 - val_loss: 61718464.0000 - val_output_loss: 61718464.0000 - val_output_mse: 61718464.0000 - val_output_mae: 5726.4502\n",
      "Epoch 37/50\n",
      "2/2 [==============================] - 1s 368ms/step - loss: 60463088.0000 - output_loss: 60463088.0000 - output_mse: 60463088.0000 - output_mae: 5617.6758 - val_loss: 56497648.0000 - val_output_loss: 56497648.0000 - val_output_mse: 56497648.0000 - val_output_mae: 5273.3691\n",
      "Epoch 38/50\n",
      "2/2 [==============================] - 1s 369ms/step - loss: 60728360.0000 - output_loss: 60728360.0000 - output_mse: 60728360.0000 - output_mae: 5649.6230 - val_loss: 59563396.0000 - val_output_loss: 59563396.0000 - val_output_mse: 59563396.0000 - val_output_mae: 5553.2700\n",
      "Epoch 39/50\n",
      "2/2 [==============================] - 1s 391ms/step - loss: 59412456.0000 - output_loss: 59412456.0000 - output_mse: 59412456.0000 - output_mae: 5542.0288 - val_loss: 63909524.0000 - val_output_loss: 63909524.0000 - val_output_mse: 63909524.0000 - val_output_mae: 5947.8057\n",
      "Epoch 40/50\n",
      "2/2 [==============================] - 1s 395ms/step - loss: 60138728.0000 - output_loss: 60138728.0000 - output_mse: 60138728.0000 - output_mae: 5616.2378 - val_loss: 62680924.0000 - val_output_loss: 62680924.0000 - val_output_mse: 62680924.0000 - val_output_mae: 5849.4111\n",
      "Epoch 41/50\n",
      "2/2 [==============================] - 1s 511ms/step - loss: 60513264.0000 - output_loss: 60513264.0000 - output_mse: 60513264.0000 - output_mae: 5660.5298 - val_loss: 59168884.0000 - val_output_loss: 59168884.0000 - val_output_mse: 59168884.0000 - val_output_mae: 5549.8262\n",
      "Epoch 42/50\n",
      "2/2 [==============================] - 1s 472ms/step - loss: 61386804.0000 - output_loss: 61386804.0000 - output_mse: 61386804.0000 - output_mae: 5750.1104 - val_loss: 60707840.0000 - val_output_loss: 60707840.0000 - val_output_mse: 60707840.0000 - val_output_mae: 5699.1807\n",
      "Epoch 43/50\n",
      "2/2 [==============================] - 1s 460ms/step - loss: 59815632.0000 - output_loss: 59815632.0000 - output_mse: 59815632.0000 - output_mae: 5624.0283 - val_loss: 58746852.0000 - val_output_loss: 58746852.0000 - val_output_mse: 58746852.0000 - val_output_mae: 5538.8223\n",
      "Epoch 44/50\n",
      "2/2 [==============================] - 1s 457ms/step - loss: 59893872.0000 - output_loss: 59893872.0000 - output_mse: 59893872.0000 - output_mae: 5644.3872 - val_loss: 59501668.0000 - val_output_loss: 59501668.0000 - val_output_mse: 59501668.0000 - val_output_mae: 5620.8408\n",
      "Epoch 45/50\n",
      "2/2 [==============================] - 1s 454ms/step - loss: 59950988.0000 - output_loss: 59950988.0000 - output_mse: 59950988.0000 - output_mae: 5664.3237 - val_loss: 60262456.0000 - val_output_loss: 60262456.0000 - val_output_mse: 60262456.0000 - val_output_mae: 5704.4390\n",
      "Epoch 46/50\n",
      "2/2 [==============================] - 1s 526ms/step - loss: 60167760.0000 - output_loss: 60167760.0000 - output_mse: 60167760.0000 - output_mae: 5699.6714 - val_loss: 58758888.0000 - val_output_loss: 58758888.0000 - val_output_mse: 58758888.0000 - val_output_mae: 5588.3735\n",
      "Epoch 47/50\n",
      "2/2 [==============================] - 1s 528ms/step - loss: 59173200.0000 - output_loss: 59173200.0000 - output_mse: 59173200.0000 - output_mae: 5629.7173 - val_loss: 60538768.0000 - val_output_loss: 60538768.0000 - val_output_mse: 60538768.0000 - val_output_mae: 5764.5947\n",
      "Epoch 48/50\n",
      "2/2 [==============================] - 1s 393ms/step - loss: 59223360.0000 - output_loss: 59223360.0000 - output_mse: 59223360.0000 - output_mae: 5652.5513 - val_loss: 57981684.0000 - val_output_loss: 57981684.0000 - val_output_mse: 57981684.0000 - val_output_mae: 5556.1782\n",
      "Epoch 49/50\n",
      "2/2 [==============================] - 1s 460ms/step - loss: 59126432.0000 - output_loss: 59126432.0000 - output_mse: 59126432.0000 - output_mae: 5664.1309 - val_loss: 58763060.0000 - val_output_loss: 58763060.0000 - val_output_mse: 58763060.0000 - val_output_mae: 5646.6221\n",
      "Epoch 50/50\n",
      "2/2 [==============================] - 1s 497ms/step - loss: 58578188.0000 - output_loss: 58578188.0000 - output_mse: 58578188.0000 - output_mae: 5636.7368 - val_loss: 58714232.0000 - val_output_loss: 58714232.0000 - val_output_mse: 58714232.0000 - val_output_mae: 5666.3398\n"
     ]
    }
   ],
   "source": [
    "model = NATT(\n",
    "    \"Target ~  -1 + MLP(Continuous1) +  MLP(Continuous2) + Transformer(Category1):Transformer(Category2)\", \n",
    "    data=data, \n",
    "    feature_dropout=0.0001,\n",
    "    out_activation=\"linear\",\n",
    "    ff_dropout=0.1, \n",
    "    dropout=0.1,\n",
    "    attn_dropout=0.1,\n",
    "    batch_size=2048\n",
    "    )\n",
    "optimizer = Adam(learning_rate=0.001)\n",
    "model.compile(\n",
    "    optimizer = optimizer,\n",
    "    loss = {\"output\": tf.keras.losses.MeanSquaredError(), \"importances\": None, \"att_weights\": None},\n",
    "    metrics= {\"output\": [\"mse\", \"mae\"], \"importances\": None, \"att_weights\": None},)\n",
    "history = model.fit(\n",
    "    model.training_dataset, \n",
    "    epochs=50, \n",
    "    validation_data=model.validation_dataset,\n",
    "    verbose=1,\n",
    ")"
   ]
  },
  {
   "cell_type": "code",
   "execution_count": 139,
   "metadata": {},
   "outputs": [],
   "source": [
    "dataset = model.data.copy()\n",
    "dataset[\"Category1\"] = np.repeat(\"Unknown\", len(dataset))\n",
    "dataset[\"Category2\"] = np.repeat(\"Unknown\", len(dataset))\n",
    "dataset[\"Continuous1\"] = np.linspace(data[\"Continuous1\"].min(), data[\"Continuous1\"].max(), len(dataset))\n",
    "dataset[\"Continuous2\"] = np.linspace(data[\"Continuous2\"].min(), data[\"Continuous2\"].max(), len(dataset))\n",
    "dataset = df_to_dataset(\n",
    "            dataset,\n",
    "            model.data,\n",
    "            model.input_dict,\n",
    "            model.y,\n",
    "            batch_size=1024,\n",
    "            shuffle=False,\n",
    "            feature_information=model.feature_information,\n",
    "            task=model.binning_task,\n",
    ")"
   ]
  },
  {
   "cell_type": "code",
   "execution_count": 140,
   "metadata": {},
   "outputs": [],
   "source": [
    "model.trainable = False\n",
    "assert model.encoder.trainable == False  # All layers in `model` are now frozen\n",
    "assert model.feature_nets[1].layers[0].trainable == False  # `trainable` is propagated recursively\n"
   ]
  },
  {
   "cell_type": "code",
   "execution_count": 141,
   "metadata": {},
   "outputs": [
    {
     "name": "stdout",
     "output_type": "stream",
     "text": [
      "(None, 3, 32)\n",
      "5/5 [==============================] - 1s 55ms/step\n"
     ]
    },
    {
     "data": {
      "text/plain": [
       "array([[0.30211598, 0.353949  , 0.343935  ],\n",
       "       [0.30211598, 0.353949  , 0.343935  ],\n",
       "       [0.30211598, 0.353949  , 0.343935  ],\n",
       "       ...,\n",
       "       [0.30211598, 0.353949  , 0.343935  ],\n",
       "       [0.30211598, 0.353949  , 0.343935  ],\n",
       "       [0.30211598, 0.353949  , 0.343935  ]], dtype=float32)"
      ]
     },
     "execution_count": 141,
     "metadata": {},
     "output_type": "execute_result"
    }
   ],
   "source": [
    "output = model.predict(dataset, verbose=1)\n",
    "expl = output[\"importances\"]\n",
    "expl"
   ]
  },
  {
   "cell_type": "code",
   "execution_count": 142,
   "metadata": {},
   "outputs": [
    {
     "data": {
      "text/plain": [
       "array([[-467.50262],\n",
       "       [-467.37518],\n",
       "       [-467.24786],\n",
       "       ...,\n",
       "       [-434.1536 ],\n",
       "       [-434.26993],\n",
       "       [-434.3863 ]], dtype=float32)"
      ]
     },
     "execution_count": 142,
     "metadata": {},
     "output_type": "execute_result"
    }
   ],
   "source": [
    "x = output[\"output\"]\n",
    "x"
   ]
  }
 ],
 "metadata": {
  "kernelspec": {
   "display_name": "namlss",
   "language": "python",
   "name": "namlss"
  },
  "language_info": {
   "codemirror_mode": {
    "name": "ipython",
    "version": 3
   },
   "file_extension": ".py",
   "mimetype": "text/x-python",
   "name": "python",
   "nbconvert_exporter": "python",
   "pygments_lexer": "ipython3",
   "version": "3.11.4"
  },
  "orig_nbformat": 4
 },
 "nbformat": 4,
 "nbformat_minor": 2
}
